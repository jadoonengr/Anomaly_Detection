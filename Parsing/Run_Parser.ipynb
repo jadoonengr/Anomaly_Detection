{
 "cells": [
  {
   "cell_type": "code",
   "execution_count": 7,
   "metadata": {},
   "outputs": [
    {
     "name": "stdout",
     "output_type": "stream",
     "text": [
      "Parsing file: ./rawlogs/HDFS_2k.log\n",
      "Parsing done. [Time taken: 0:00:00.484003]\n",
      "Parsing file: ./rawlogs/Zookeeper_2k.log\n",
      "Parsing done. [Time taken: 0:00:00.410003]\n"
     ]
    }
   ],
   "source": [
    "%run parser.py"
   ]
  }
 ],
 "metadata": {
  "kernelspec": {
   "display_name": "Python 3",
   "language": "python",
   "name": "python3"
  },
  "language_info": {
   "codemirror_mode": {
    "name": "ipython",
    "version": 3
   },
   "file_extension": ".py",
   "mimetype": "text/x-python",
   "name": "python",
   "nbconvert_exporter": "python",
   "pygments_lexer": "ipython3",
   "version": "3.8.3"
  }
 },
 "nbformat": 4,
 "nbformat_minor": 4
}
