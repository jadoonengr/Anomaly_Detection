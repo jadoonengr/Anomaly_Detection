{
 "cells": [
  {
   "cell_type": "code",
   "execution_count": 295,
   "metadata": {},
   "outputs": [],
   "source": [
    "import pandas as pd\n",
    "import numpy as np \n",
    "HDFS_df_raw = pd.read_csv(\"./Parsing/cleanlogs/HDFS_2k.log_structured.csv\")\n",
    "HDFS_labels = pd.read_csv(\"./Parsing/cleanlogs/HDFS_2k.log_templates.csv\")\n",
    "HDFS_anomaly = pd.read_csv(\"./Parsing/rawlogs/anomaly_label.csv\")"
   ]
  },
  {
   "cell_type": "code",
   "execution_count": 22,
   "metadata": {},
   "outputs": [],
   "source": [
    "###\n",
    "### CSV Cleaning for HDFS\n",
    "###\n",
    "\n",
    "#Create more clear EventIds: E1, E2\n",
    "HDFS_labels[\"Clean_EventId\"] = [\"E\" + str(i+1) for i in range(0,16)]\n",
    "#Store new EventIds into Dictionary\n",
    "events = dict(zip(HDFS_labels.EventId,HDFS_labels.Clean_EventId))\n",
    "#Rename EventIds to E1,E2 ...\n",
    "HDFS_df_raw.EventId = HDFS_df_raw.EventId.map(events)\n",
    "#Create new CSV file HDFS_2k.log_structured_clean.csv\n",
    "HDFS_df_raw.to_csv(\"./Parsing/cleanlogs/HDFS_2k.log_structured_clean.csv\",sep=\",\",index=False)"
   ]
  },
  {
   "cell_type": "code",
   "execution_count": null,
   "metadata": {},
   "outputs": [],
   "source": [
    "###\n",
    "### Create dictionary for HDFS BlockId : Label\n",
    "###\n",
    "anomaly_labels = HDFS_anomaly.set_index(\"BlockId\")[\"Label\"].to_dict()"
   ]
  },
  {
   "cell_type": "code",
   "execution_count": 177,
   "metadata": {},
   "outputs": [],
   "source": [
    "from ast import literal_eval #For keeping ParameterList as List when reading in CSV \n",
    "HDFS_clean = pd.read_csv(\"./Parsing/cleanlogs/HDFS_2k.log_structured_clean.csv\",converters={'ParameterList': literal_eval})"
   ]
  },
  {
   "cell_type": "code",
   "execution_count": 257,
   "metadata": {},
   "outputs": [],
   "source": [
    "###\n",
    "### Extract blk_id into column blk_id\n",
    "###\n",
    "\n",
    "import warnings\n",
    "from pandas.core.common import SettingWithCopyWarning\n",
    "\n",
    "warnings.simplefilter(action=\"ignore\", category=SettingWithCopyWarning)\n",
    "\n",
    "def extract_blk_id(x): #Inidivudal entries inside ParameterList\n",
    "    ###\n",
    "    ###Check if entry is a blk_id, return True if value is a blk_id \n",
    "    ###\n",
    "    ###Input: x, str\n",
    "    ###Output: boolean\n",
    "    \n",
    "    if \"blk\" in x:\n",
    "        return True\n",
    "\n",
    "def extract_label(x): #Individual Entries inside blk_id\n",
    "    ###\n",
    "    ###Determine if given list of bulk_ids are normal, anomaly or not specified, return str. \n",
    "    ###In the case of multiple bulk_ids, if 1 blk_id corresponds to an Anomaly - will be classified as Anomaly. \n",
    "    ###If the blk_id is not in our dictionary of labels - will be classified as Unavailable.\n",
    "    ###\n",
    "    ###Input: x, list of blk_ids\n",
    "    ###Output: label, str - either Normal, Anomaly or Unavailable\n",
    "    \n",
    "    for blk_id in x: #Go through list of blk_ids\n",
    "        if blk_id in anomaly_labels.keys(): #Check if the id is in out list of labels\n",
    "            \n",
    "            if anomaly_labels[blk_id] == \"Anomaly\": #Find any Anomalies\n",
    "                return \"Anomaly\" \n",
    "            else:\n",
    "                return \"Normal\"\n",
    "            \n",
    "        else: #id does not exist in our dictionary (i.e. do not know label)\n",
    "            return \"Unavailable\"\n",
    "    \n",
    "\n",
    "#Create blk_id column\n",
    "count = 0\n",
    "HDFS_clean[\"blk_id\"] = \"\" #Initialize new column\n",
    "for params in HDFS_clean.ParameterList:\n",
    "    if params == []: #If the list is empty - when the IPLOM parser failed (on 3 occaisions) @ line 1438,1767,1900\n",
    "        HDFS_clean[\"blk_id\"][count] = [blkid for blkid in HDFS_clean[\"Content\"][count].split() if extract_blk_id(blkid)] #Need to go to Content to get blk_ida\n",
    "    else:\n",
    "        HDFS_clean[\"blk_id\"][count] = [blkid for blkid in params if extract_blk_id(blkid)] #Extract blk_id\n",
    "    count += 1\n",
    "\n",
    "#Create label column\n",
    "HDFS_clean[\"label\"] = [extract_label(blkid) for blkid in HDFS_clean.blk_id] #Initialize new column\n",
    "\n",
    "#Export to CSV\n",
    "HDFS_clean.to_csv(\"./Parsing/cleanlogs/HDFS_labelled.csv\",sep=\",\",index=False)"
   ]
  },
  {
   "cell_type": "code",
   "execution_count": 255,
   "metadata": {},
   "outputs": [
    {
     "data": {
      "application/vnd.vegalite.v4+json": {
       "$schema": "https://vega.github.io/schema/vega-lite/v4.8.1.json",
       "config": {
        "axis": {
         "labelPadding": 5,
         "titleFontSize": 12,
         "titlePadding": 10
        },
        "title": {
         "align": "left",
         "fontSize": 20
        },
        "view": {
         "continuousHeight": 300,
         "continuousWidth": 400
        }
       },
       "data": {
        "url": "http://localhost:21206/a44be2baa2ccc72a0b34273a52c2dacc.json"
       },
       "height": 300,
       "layer": [
        {
         "encoding": {
          "fill": {
           "field": "label",
           "legend": null,
           "type": "nominal"
          },
          "x": {
           "axis": {
            "labelAngle": 0,
            "title": null
           },
           "field": "label",
           "sort": "-y",
           "type": "nominal"
          },
          "y": {
           "aggregate": "count",
           "axis": {
            "title": "Number of logs"
           },
           "type": "quantitative"
          }
         },
         "mark": "bar"
        },
        {
         "encoding": {
          "fill": {
           "field": "label",
           "legend": null,
           "type": "nominal"
          },
          "text": {
           "aggregate": "count",
           "type": "quantitative"
          },
          "x": {
           "axis": {
            "labelAngle": 0,
            "title": null
           },
           "field": "label",
           "sort": "-y",
           "type": "nominal"
          },
          "y": {
           "aggregate": "count",
           "axis": {
            "title": "Number of logs"
           },
           "type": "quantitative"
          }
         },
         "mark": {
          "baseline": "bottom",
          "dx": 3,
          "type": "text"
         }
        }
       ],
       "title": "Distribution of labels in HDFS log dataset. ",
       "width": 300
      },
      "image/png": "[encoded data removed]",
      "text/plain": [
       "<VegaLite 4 object>\n",
       "\n",
       "If you see this message, it means the renderer has not been properly enabled\n",
       "for the frontend that you are using. For more information, see\n",
       "https://altair-viz.github.io/user_guide/troubleshooting.html\n"
      ]
     },
     "execution_count": 255,
     "metadata": {},
     "output_type": "execute_result"
    }
   ],
   "source": [
    "#Chart of Anomaly Distribution \n",
    "import altair as alt\n",
    "alt.renderers.enable('mimetype')\n",
    "alt.data_transformers.enable('data_server')\n",
    "bars = alt.Chart(HDFS_clean).mark_bar().encode(\n",
    "    alt.X(\"label\",sort=\"-y\", axis=alt.Axis(title= None,labelAngle=0)),\n",
    "    alt.Y(\"count()\",axis=alt.Axis(title=\"Number of logs\")),\n",
    "    alt.Fill(\"label\",legend=None)\n",
    ")\n",
    "\n",
    "text = bars.mark_text(\n",
    "    baseline='bottom',\n",
    "    dx=3  # Nudges text to right so it doesn't appear on top of the bar\n",
    ").encode(\n",
    "    text='count()'\n",
    ")\n",
    "\n",
    "(bars+text).properties(width=300,height=300,title = \"Distribution of labels in HDFS log dataset. \").configure_title(fontSize=20, align=\"left\").configure_axis(labelPadding=5, titleFontSize=12, titlePadding = 10)"
   ]
  },
  {
   "cell_type": "code",
   "execution_count": 309,
   "metadata": {},
   "outputs": [],
   "source": [
    "###\n",
    "### Mimic Read in, load, split, transform\n",
    "### Just need to modify dataloader.py code\n",
    "###\n",
    "import regex as re\n",
    "from sklearn.utils import shuffle\n",
    "from collections import OrderedDict\n",
    "\n",
    "#1) Read in Structured Log (with Labels)\n",
    "struct_log = pd.read_csv(\"./Parsing/cleanlogs/HDFS_labelled.csv\",converters={'blk_id': literal_eval})\n",
    "int_struct_log=struct_log[[\"EventId\",\"blk_id\",\"label\"]] #Subset struct_log with only columns of interest EventId, blk_id and label\n",
    "int_struct_log = int_struct_log.explode(\"blk_id\") #Each blk_id is on it's own row\n",
    "\n",
    "#2) Load\n",
    "#Want to group events by blk_id - in our case: blk_ids are unique in our dataset (1 blk id = 1 event)\n",
    "#Set up un-labelled data\n",
    "data_dict = OrderedDict() #Create empty dictionary\n",
    "for idx,row in int_struct_log.iterrows(): #For each row in int_struct_log \n",
    "    if not row[\"blk_id\"] in data_dict: #Check if blk_id exists already\n",
    "        data_dict[row[\"blk_id\"]] = [] \n",
    "    data_dict[row[\"blk_id\"]].append(row['EventId']) #Add corresponding EventId to blk_id\n",
    "data_df = pd.DataFrame(list(data_dict.items()), columns=['BlockId', 'EventSequence']) #Convert data_dict into data_frame\n",
    "x_data = data_df['EventSequence'].values \n",
    "\n",
    "#3) Split up: Training:Validation:Testing\n",
    "def _split_data(x_data, y_data=None, train_ratio=0, split_type='uniform'):\n",
    "    if split_type == 'uniform' and y_data is not None:\n",
    "        pos_idx = y_data > 0\n",
    "        x_pos = x_data[pos_idx]\n",
    "        y_pos = y_data[pos_idx]\n",
    "        x_neg = x_data[~pos_idx]\n",
    "        y_neg = y_data[~pos_idx]\n",
    "        train_pos = int(train_ratio * x_pos.shape[0])\n",
    "        train_neg = int(train_ratio * x_neg.shape[0])\n",
    "        x_train = np.hstack([x_pos[0:train_pos], x_neg[0:train_neg]])\n",
    "        y_train = np.hstack([y_pos[0:train_pos], y_neg[0:train_neg]])\n",
    "        x_test = np.hstack([x_pos[train_pos:], x_neg[train_neg:]])\n",
    "        y_test = np.hstack([y_pos[train_pos:], y_neg[train_neg:]])\n",
    "    elif split_type == 'sequential':\n",
    "        num_train = int(train_ratio * x_data.shape[0])\n",
    "        x_train = x_data[0:num_train]\n",
    "        x_test = x_data[num_train:]\n",
    "        if y_data is None:\n",
    "            y_train = None\n",
    "            y_test = None\n",
    "        else:\n",
    "            y_train = y_data[0:num_train]\n",
    "            y_test = y_data[num_train:]\n",
    "    # Random shuffle\n",
    "    indexes = shuffle(np.arange(x_train.shape[0]))\n",
    "    x_train = x_train[indexes]\n",
    "    if y_train is not None:\n",
    "        y_train = y_train[indexes]\n",
    "    return (x_train, y_train), (x_test, y_test)"
   ]
  },
  {
   "cell_type": "code",
   "execution_count": 311,
   "metadata": {},
   "outputs": [],
   "source": [
    "(x1, y1), (x2, y2) = _split_data(x_data,train_ratio = 0.5, split_type=\"sequential\")"
   ]
  },
  {
   "cell_type": "code",
   "execution_count": 319,
   "metadata": {},
   "outputs": [
    {
     "data": {
      "text/plain": [
       "2267"
      ]
     },
     "execution_count": 319,
     "metadata": {},
     "output_type": "execute_result"
    }
   ],
   "source": [
    "len(x1)+len(x2)"
   ]
  },
  {
   "cell_type": "code",
   "execution_count": 320,
   "metadata": {},
   "outputs": [
    {
     "data": {
      "text/plain": [
       "2267"
      ]
     },
     "execution_count": 320,
     "metadata": {},
     "output_type": "execute_result"
    }
   ],
   "source": [
    "len(x_data)"
   ]
  }
 ],
 "metadata": {
  "kernelspec": {
   "display_name": "Python 3",
   "language": "python",
   "name": "python3"
  },
  "language_info": {
   "codemirror_mode": {
    "name": "ipython",
    "version": 3
   },
   "file_extension": ".py",
   "mimetype": "text/x-python",
   "name": "python",
   "nbconvert_exporter": "python",
   "pygments_lexer": "ipython3",
   "version": "3.8.3"
  }
 },
 "nbformat": 4,
 "nbformat_minor": 4
}
