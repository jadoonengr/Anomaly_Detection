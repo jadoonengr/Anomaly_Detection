{
 "cells": [
  {
   "cell_type": "markdown",
   "metadata": {},
   "source": [
    "***Steps***  \n",
    "***Part 1: Log Collection/Cleaning***\n",
    "1. Run `parser.py` file in '/Parsing'. Will parse files in 'rawlogs' into 'cleanlogs'. Creates log_structured.csv and log_templates.csv.\n",
    "- Example code: `%run parser.py`\n",
    "2. Use `clean_logs()` to clean log_structured.csv. Rename events to E1, E2 etc., creates log_structured_clean.csv.\n",
    "- Example code: `clean_logs(\"./Parsing/cleanlogs/Zookeeper_2k.log_structured.csv\",\"./Parsing/cleanlogs/Zookeeper_2k.log_templates.csv\",\"Zookeeper\")`.  \n",
    "2. 1:  For labeled data use `label_log()` to label your log_structured_clean.csv log into log_labelled.csv. ***Use for HDFS only***\n",
    "- Example code: `label_log(\"./Parsing/cleanlogs/HDFS_structured_clean.csv\",\"./Parsing/rawlogs/anomaly_label.csv\")`.  \n",
    "     \n",
    "***Part 2: Log Parsing and Feature Extraction***  \n",
    "3. Use `_session_window()` or `_fixed_window()` or `_sliding_window()` to parse and extract events from your log_structured_clean.csv or log_labelled.csv file. ***_session_window() for HDFS only***\n",
    "- Example code (labelled): `x,y,df = _session_window(data_file=\"./Parsing/cleanlogs/HDFS_labelled.csv\",labels=True)`.  \n",
    "- Example code: `x,y,df = _fixed_window(data_file=\"./Parsing/cleanlogs/Zookeeper_structured_clean.csv\",windowsize=2,log_type=\"Zookeeper\")`.  \n",
    "4. Use `_split_data()` to split x,y into training and testing sets.  ***split_type = 'uniform' is only for Labeled Data***.  \n",
    "- Example code (labeled): = `(x_train,y_train),(x_test,y_test) = _split_data(x,y,train_ratio=0.5,split_type=\"uniform\")`.  \n",
    "- Example code (unlabeled): `(x_train, _),( x_test, _) = _split_data(x,y=None,train_ratio=0.5,split_type=\"sequential\")`.  \n"
   ]
  },
  {
   "cell_type": "code",
   "execution_count": 4,
   "metadata": {},
   "outputs": [],
   "source": [
    "#Parsing and Feature Extreaction\n",
    "import Parsing.clean_parse_extract as cpe\n",
    "\n",
    "#For Modelling\n",
    "from Models.loglizer.loglizer.models import PCA\n",
    "from Models.loglizer.loglizer import preprocessing"
   ]
  },
  {
   "cell_type": "code",
   "execution_count": 5,
   "metadata": {},
   "outputs": [],
   "source": [
    "#2\n",
    "cpe.clean_logs(\"./Parsing/cleanlogs/HDFS_2k.log_structured.csv\",\"./Parsing/cleanlogs/HDFS_2k.log_templates.csv\",\"HDFS\")\n",
    "cpe.clean_logs(\"./Parsing/cleanlogs/Zookeeper_2k.log_structured.csv\",\"./Parsing/cleanlogs/Zookeeper_2k.log_templates.csv\",\"Zookeeper\")"
   ]
  },
  {
   "cell_type": "code",
   "execution_count": 6,
   "metadata": {},
   "outputs": [],
   "source": [
    "#2.1 *Run on HDFS to get unique blk_ids\n",
    "cpe.label_log(\"./Parsing/cleanlogs/HDFS_structured_clean.csv\",\"./Parsing/rawlogs/anomaly_label.csv\")"
   ]
  },
  {
   "cell_type": "code",
   "execution_count": 7,
   "metadata": {},
   "outputs": [
    {
     "name": "stdout",
     "output_type": "stream",
     "text": [
      "Number of unique blk_ids:  1994\n",
      "Number of windows:  253\n",
      "Number of window slides:  252\n",
      "Number of windows:  15\n",
      "Number of window slides:  14\n"
     ]
    }
   ],
   "source": [
    "#3\n",
    "x_hl,y_hl,df_hl = cpe._session_window(data_file=\"./Parsing/cleanlogs/HDFS_labelled.csv\",labels=True)\n",
    "x_z,y_z,df_z = cpe._fixed_window(data_file=\"./Parsing/cleanlogs/Zookeeper_structured_clean.csv\",windowsize=2,log_type=\"Zookeeper\")\n",
    "x_h,y_h,df_h = cpe._sliding_window(data_file=\"./Parsing/cleanlogs/HDFS_labelled.csv\",windowsize=5,windowslide=2,log_type = \"HDFS\")"
   ]
  },
  {
   "cell_type": "code",
   "execution_count": 8,
   "metadata": {},
   "outputs": [
    {
     "name": "stdout",
     "output_type": "stream",
     "text": [
      "Size of training set:  227\n",
      "Size of testing set:  26\n",
      "Size of total data set:  253\n",
      "Size of training set:  997\n",
      "Size of testing set:  997\n",
      "Size of total data set:  1994\n"
     ]
    }
   ],
   "source": [
    "#4\n",
    "(x_train_z,_), (x_test_z,_) = cpe._split_data(x_z,y_z,train_ratio = 0.9, split_type = 'sequential')\n",
    "(x_train_hl,y_train_hl), (x_test_hl,y_test_hl) = cpe._split_data(x_hl,y_hl,train_ratio = 0.5, split_type = 'uniform')"
   ]
  },
  {
   "cell_type": "code",
   "execution_count": 9,
   "metadata": {},
   "outputs": [
    {
     "data": {
      "text/html": [
       "<div>\n",
       "<style scoped>\n",
       "    .dataframe tbody tr th:only-of-type {\n",
       "        vertical-align: middle;\n",
       "    }\n",
       "\n",
       "    .dataframe tbody tr th {\n",
       "        vertical-align: top;\n",
       "    }\n",
       "\n",
       "    .dataframe thead th {\n",
       "        text-align: right;\n",
       "    }\n",
       "</style>\n",
       "<table border=\"1\" class=\"dataframe\">\n",
       "  <thead>\n",
       "    <tr style=\"text-align: right;\">\n",
       "      <th></th>\n",
       "      <th>BlockId</th>\n",
       "      <th>EventSequence</th>\n",
       "      <th>Label</th>\n",
       "    </tr>\n",
       "  </thead>\n",
       "  <tbody>\n",
       "    <tr>\n",
       "      <th>38</th>\n",
       "      <td>blk_8181993091797661153</td>\n",
       "      <td>[E13]</td>\n",
       "      <td>1</td>\n",
       "    </tr>\n",
       "    <tr>\n",
       "      <th>63</th>\n",
       "      <td>blk_8408125361497769001</td>\n",
       "      <td>[E3]</td>\n",
       "      <td>1</td>\n",
       "    </tr>\n",
       "    <tr>\n",
       "      <th>89</th>\n",
       "      <td>blk_8787656642683881295</td>\n",
       "      <td>[E8]</td>\n",
       "      <td>1</td>\n",
       "    </tr>\n",
       "    <tr>\n",
       "      <th>93</th>\n",
       "      <td>blk_-62891505109755100</td>\n",
       "      <td>[E11]</td>\n",
       "      <td>1</td>\n",
       "    </tr>\n",
       "    <tr>\n",
       "      <th>139</th>\n",
       "      <td>blk_-7105305952901940477</td>\n",
       "      <td>[E6]</td>\n",
       "      <td>1</td>\n",
       "    </tr>\n",
       "    <tr>\n",
       "      <th>...</th>\n",
       "      <td>...</td>\n",
       "      <td>...</td>\n",
       "      <td>...</td>\n",
       "    </tr>\n",
       "    <tr>\n",
       "      <th>1763</th>\n",
       "      <td>blk_-7606467001548719462</td>\n",
       "      <td>[E1]</td>\n",
       "      <td>1</td>\n",
       "    </tr>\n",
       "    <tr>\n",
       "      <th>1856</th>\n",
       "      <td>blk_4516306414837452219</td>\n",
       "      <td>[E4]</td>\n",
       "      <td>1</td>\n",
       "    </tr>\n",
       "    <tr>\n",
       "      <th>1904</th>\n",
       "      <td>blk_9173199815015538212</td>\n",
       "      <td>[E1]</td>\n",
       "      <td>1</td>\n",
       "    </tr>\n",
       "    <tr>\n",
       "      <th>1942</th>\n",
       "      <td>blk_-8571819028995448536</td>\n",
       "      <td>[E10]</td>\n",
       "      <td>1</td>\n",
       "    </tr>\n",
       "    <tr>\n",
       "      <th>1952</th>\n",
       "      <td>blk_-3265479347842446682</td>\n",
       "      <td>[E10]</td>\n",
       "      <td>1</td>\n",
       "    </tr>\n",
       "  </tbody>\n",
       "</table>\n",
       "<p>68 rows × 3 columns</p>\n",
       "</div>"
      ],
      "text/plain": [
       "                       BlockId EventSequence  Label\n",
       "38     blk_8181993091797661153         [E13]      1\n",
       "63     blk_8408125361497769001          [E3]      1\n",
       "89     blk_8787656642683881295          [E8]      1\n",
       "93      blk_-62891505109755100         [E11]      1\n",
       "139   blk_-7105305952901940477          [E6]      1\n",
       "...                        ...           ...    ...\n",
       "1763  blk_-7606467001548719462          [E1]      1\n",
       "1856   blk_4516306414837452219          [E4]      1\n",
       "1904   blk_9173199815015538212          [E1]      1\n",
       "1942  blk_-8571819028995448536         [E10]      1\n",
       "1952  blk_-3265479347842446682         [E10]      1\n",
       "\n",
       "[68 rows x 3 columns]"
      ]
     },
     "execution_count": 9,
     "metadata": {},
     "output_type": "execute_result"
    }
   ],
   "source": [
    "df_hl[df_hl.Label == 1]"
   ]
  },
  {
   "cell_type": "code",
   "execution_count": null,
   "metadata": {},
   "outputs": [],
   "source": [
    "feature_extractor = preprocessing.FeatureExtractor()\n",
    "#feature_extractor.fit_transform(x_train) is to fit and transform the TRAINING matrix\n",
    "#Transform Parameters: term_weighting = 'tf-idf' or None\n",
    "#Transform Parameters: term_weighting = 'zero-mean' or None\n",
    "x_train = feature_extractor.fit_transform(x_train_hl, term_weighting='tf-idf', \n",
    "                                          normalization='zero-mean')\n",
    "#feature_extractor.transform(x_test) is to used the FITTED model and transformed the TESTING matrix \n",
    "x_test = feature_extractor.transform(x_test)\n",
    "#PCA Model functions: model.fit()\n",
    "#PCA Model functions: model.predict()\n",
    "#PCA Model functions: model.evaluate()\n",
    "model = PCA()\n",
    "model.fit(x_train)"
   ]
  }
 ],
 "metadata": {
  "kernelspec": {
   "display_name": "Python 3",
   "language": "python",
   "name": "python3"
  },
  "language_info": {
   "codemirror_mode": {
    "name": "ipython",
    "version": 3
   },
   "file_extension": ".py",
   "mimetype": "text/x-python",
   "name": "python",
   "nbconvert_exporter": "python",
   "pygments_lexer": "ipython3",
   "version": "3.8.3"
  }
 },
 "nbformat": 4,
 "nbformat_minor": 4
}
