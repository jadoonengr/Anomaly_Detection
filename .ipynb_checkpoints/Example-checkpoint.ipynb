{
 "cells": [
  {
   "cell_type": "markdown",
   "metadata": {},
   "source": [
    "***Steps***  \n",
    "***Part 1: Log Collection/Cleaning***\n",
    "1. Run `parser.py` file in '/Parsing'. Will parse files in 'rawlogs' into 'cleanlogs'. Creates log_structured.csv and log_templates.csv.\n",
    "- Example code: `%run parser.py`\n",
    "2. Use `clean_logs()` to clean log_structured.csv. Rename events to E1, E2 etc., creates log_structured_clean.csv.\n",
    "- Example code: `clean_logs(\"./Parsing/cleanlogs/Zookeeper_2k.log_structured.csv\",\"./Parsing/cleanlogs/Zookeeper_2k.log_templates.csv\",\"Zookeeper\")`.  \n",
    "2. 1:  For labeled data use `label_log()` to label your log_structured_clean.csv log into log_labelled.csv. ***Use for HDFS only***\n",
    "- Example code: `label_log(\"./Parsing/cleanlogs/HDFS_structured_clean.csv\",\"./Parsing/rawlogs/anomaly_label.csv\")`.  \n",
    "     \n",
    "***Part 2: Log Parsing and Feature Extraction***  \n",
    "3. Use `_session_window()` or `_fixed_window()` or `_sliding_window()` to parse and extract events from your log_structured_clean.csv or log_labelled.csv file. ***_session_window() for HDFS only***\n",
    "- Example code (labelled): `x,y,df = _session_window(data_file=\"./Parsing/cleanlogs/HDFS_labelled.csv\",labels=True)`.  \n",
    "- Example code: `x,y,df = _fixed_window(data_file=\"./Parsing/cleanlogs/Zookeeper_structured_clean.csv\",windowsize=2,log_type=\"Zookeeper\")`.  \n",
    "4. Use `_split_data()` to split x,y into training and testing sets.  ***split_type = 'uniform' is only for Labeled Data***.  \n",
    "- Example code (labeled): = `(x_train,y_train),(x_test,y_test) = _split_data(x,y,train_ratio=0.5,split_type=\"uniform\")`.  \n",
    "- Example code (unlabeled): `(x_train, _),( x_test, _) = _split_data(x,y=None,train_ratio=0.5,split_type=\"sequential\")`.  \n"
   ]
  },
  {
   "cell_type": "code",
   "execution_count": 83,
   "metadata": {},
   "outputs": [],
   "source": [
    "#Parsing and Feature Extreaction\n",
    "import Parsing.clean_parse_extract as cpe\n",
    "\n",
    "#For Modelling\n",
    "from Models.loglizer.loglizer.models import PCA as pca2\n",
    "from Models.loglizer.loglizer import preprocessing"
   ]
  },
  {
   "cell_type": "code",
   "execution_count": 20,
   "metadata": {},
   "outputs": [],
   "source": [
    "#2\n",
    "cpe.clean_logs(\"./Parsing/cleanlogs/HDFS_2k.log_structured.csv\",\"./Parsing/cleanlogs/HDFS_2k.log_templates.csv\",\"HDFS\")\n",
    "cpe.clean_logs(\"./Parsing/cleanlogs/Zookeeper_2k.log_structured.csv\",\"./Parsing/cleanlogs/Zookeeper_2k.log_templates.csv\",\"Zookeeper\")"
   ]
  },
  {
   "cell_type": "code",
   "execution_count": 21,
   "metadata": {},
   "outputs": [],
   "source": [
    "#2.1 *Run on HDFS to get unique blk_ids\n",
    "cpe.label_log(\"./Parsing/cleanlogs/HDFS_structured_clean.csv\",\"./Parsing/rawlogs/anomaly_label.csv\")"
   ]
  },
  {
   "cell_type": "code",
   "execution_count": 22,
   "metadata": {},
   "outputs": [
    {
     "name": "stdout",
     "output_type": "stream",
     "text": [
      "Number of unique blk_ids:  1994\n",
      "Number of windows:  253\n",
      "Number of window slides:  252\n",
      "Number of windows:  15\n",
      "Number of window slides:  14\n"
     ]
    }
   ],
   "source": [
    "#3\n",
    "x_hl,y_hl,df_hl = cpe._session_window(data_file=\"./Parsing/cleanlogs/HDFS_labelled.csv\",labels=True)\n",
    "x_z,y_z,df_z = cpe._fixed_window(data_file=\"./Parsing/cleanlogs/Zookeeper_structured_clean.csv\",windowsize=2,log_type=\"Zookeeper\")\n",
    "x_h,y_h,df_h = cpe._sliding_window(data_file=\"./Parsing/cleanlogs/HDFS_labelled.csv\",windowsize=5,windowslide=2,log_type = \"HDFS\")"
   ]
  },
  {
   "cell_type": "code",
   "execution_count": 32,
   "metadata": {},
   "outputs": [
    {
     "data": {
      "text/html": [
       "<div>\n",
       "<style scoped>\n",
       "    .dataframe tbody tr th:only-of-type {\n",
       "        vertical-align: middle;\n",
       "    }\n",
       "\n",
       "    .dataframe tbody tr th {\n",
       "        vertical-align: top;\n",
       "    }\n",
       "\n",
       "    .dataframe thead th {\n",
       "        text-align: right;\n",
       "    }\n",
       "</style>\n",
       "<table border=\"1\" class=\"dataframe\">\n",
       "  <thead>\n",
       "    <tr style=\"text-align: right;\">\n",
       "      <th></th>\n",
       "      <th>window_id</th>\n",
       "      <th>EventSequence</th>\n",
       "    </tr>\n",
       "  </thead>\n",
       "  <tbody>\n",
       "    <tr>\n",
       "      <th>0</th>\n",
       "      <td>window1</td>\n",
       "      <td>[E8, E17, E31, E41, E41, E28, E28, E14, E9, E2...</td>\n",
       "    </tr>\n",
       "    <tr>\n",
       "      <th>1</th>\n",
       "      <td>window2</td>\n",
       "      <td>[E21, E34, E15, E34, E22, E22, E21, E22, E9, E...</td>\n",
       "    </tr>\n",
       "    <tr>\n",
       "      <th>2</th>\n",
       "      <td>window3</td>\n",
       "      <td>[E30, E15, E34, E22, E25]</td>\n",
       "    </tr>\n",
       "  </tbody>\n",
       "</table>\n",
       "</div>"
      ],
      "text/plain": [
       "  window_id                                      EventSequence\n",
       "0   window1  [E8, E17, E31, E41, E41, E28, E28, E14, E9, E2...\n",
       "1   window2  [E21, E34, E15, E34, E22, E22, E21, E22, E9, E...\n",
       "2   window3                          [E30, E15, E34, E22, E25]"
      ]
     },
     "execution_count": 32,
     "metadata": {},
     "output_type": "execute_result"
    }
   ],
   "source": [
    "df_z.head(3)"
   ]
  },
  {
   "cell_type": "code",
   "execution_count": 33,
   "metadata": {},
   "outputs": [
    {
     "data": {
      "text/html": [
       "<div>\n",
       "<style scoped>\n",
       "    .dataframe tbody tr th:only-of-type {\n",
       "        vertical-align: middle;\n",
       "    }\n",
       "\n",
       "    .dataframe tbody tr th {\n",
       "        vertical-align: top;\n",
       "    }\n",
       "\n",
       "    .dataframe thead th {\n",
       "        text-align: right;\n",
       "    }\n",
       "</style>\n",
       "<table border=\"1\" class=\"dataframe\">\n",
       "  <thead>\n",
       "    <tr style=\"text-align: right;\">\n",
       "      <th></th>\n",
       "      <th>window_id</th>\n",
       "      <th>EventSequence</th>\n",
       "    </tr>\n",
       "  </thead>\n",
       "  <tbody>\n",
       "    <tr>\n",
       "      <th>0</th>\n",
       "      <td>window1</td>\n",
       "      <td>[E2, E2, E13, E2, E2, E13, E13, E13, E2, E3, E...</td>\n",
       "    </tr>\n",
       "    <tr>\n",
       "      <th>1</th>\n",
       "      <td>window2</td>\n",
       "      <td>[E3, E13, E3, E10, E10, E2, E10, E13, E13, E2,...</td>\n",
       "    </tr>\n",
       "    <tr>\n",
       "      <th>2</th>\n",
       "      <td>window3</td>\n",
       "      <td>[E8, E11, E8, E8, E8, E8, E8, E8, E11, E8, E11...</td>\n",
       "    </tr>\n",
       "  </tbody>\n",
       "</table>\n",
       "</div>"
      ],
      "text/plain": [
       "  window_id                                      EventSequence\n",
       "0   window1  [E2, E2, E13, E2, E2, E13, E13, E13, E2, E3, E...\n",
       "1   window2  [E3, E13, E3, E10, E10, E2, E10, E13, E13, E2,...\n",
       "2   window3  [E8, E11, E8, E8, E8, E8, E8, E8, E11, E8, E11..."
      ]
     },
     "execution_count": 33,
     "metadata": {},
     "output_type": "execute_result"
    }
   ],
   "source": [
    "df_h.head(3)"
   ]
  },
  {
   "cell_type": "code",
   "execution_count": 34,
   "metadata": {},
   "outputs": [
    {
     "data": {
      "text/html": [
       "<div>\n",
       "<style scoped>\n",
       "    .dataframe tbody tr th:only-of-type {\n",
       "        vertical-align: middle;\n",
       "    }\n",
       "\n",
       "    .dataframe tbody tr th {\n",
       "        vertical-align: top;\n",
       "    }\n",
       "\n",
       "    .dataframe thead th {\n",
       "        text-align: right;\n",
       "    }\n",
       "</style>\n",
       "<table border=\"1\" class=\"dataframe\">\n",
       "  <thead>\n",
       "    <tr style=\"text-align: right;\">\n",
       "      <th></th>\n",
       "      <th>BlockId</th>\n",
       "      <th>EventSequence</th>\n",
       "      <th>Label</th>\n",
       "    </tr>\n",
       "  </thead>\n",
       "  <tbody>\n",
       "    <tr>\n",
       "      <th>0</th>\n",
       "      <td>blk_38865049064139660</td>\n",
       "      <td>[E2]</td>\n",
       "      <td>0</td>\n",
       "    </tr>\n",
       "    <tr>\n",
       "      <th>1</th>\n",
       "      <td>blk_-6952295868487656571</td>\n",
       "      <td>[E2]</td>\n",
       "      <td>0</td>\n",
       "    </tr>\n",
       "    <tr>\n",
       "      <th>2</th>\n",
       "      <td>blk_7128370237687728475</td>\n",
       "      <td>[E13]</td>\n",
       "      <td>0</td>\n",
       "    </tr>\n",
       "  </tbody>\n",
       "</table>\n",
       "</div>"
      ],
      "text/plain": [
       "                    BlockId EventSequence  Label\n",
       "0     blk_38865049064139660          [E2]      0\n",
       "1  blk_-6952295868487656571          [E2]      0\n",
       "2   blk_7128370237687728475         [E13]      0"
      ]
     },
     "execution_count": 34,
     "metadata": {},
     "output_type": "execute_result"
    }
   ],
   "source": [
    "df_hl.head(3)"
   ]
  },
  {
   "cell_type": "code",
   "execution_count": 37,
   "metadata": {},
   "outputs": [
    {
     "name": "stdout",
     "output_type": "stream",
     "text": [
      "Size of training set:  227\n",
      "Size of testing set:  26\n",
      "Size of total data set:  253\n",
      "Size of training set:  997\n",
      "Size of testing set:  997\n",
      "Size of total data set:  1994\n"
     ]
    }
   ],
   "source": [
    "#4\n",
    "(x_train_z,_), (x_test_z,_) = cpe._split_data(x_z,y_z,train_ratio = 0.9, split_type = 'sequential')\n",
    "(x_train_hl,y_train_hl), (x_test_hl,y_test_hl) = cpe._split_data(x_hl,y_hl,train_ratio = 0.5, split_type = 'uniform')"
   ]
  },
  {
   "cell_type": "code",
   "execution_count": 38,
   "metadata": {},
   "outputs": [
    {
     "data": {
      "text/html": [
       "<div>\n",
       "<style scoped>\n",
       "    .dataframe tbody tr th:only-of-type {\n",
       "        vertical-align: middle;\n",
       "    }\n",
       "\n",
       "    .dataframe tbody tr th {\n",
       "        vertical-align: top;\n",
       "    }\n",
       "\n",
       "    .dataframe thead th {\n",
       "        text-align: right;\n",
       "    }\n",
       "</style>\n",
       "<table border=\"1\" class=\"dataframe\">\n",
       "  <thead>\n",
       "    <tr style=\"text-align: right;\">\n",
       "      <th></th>\n",
       "      <th>BlockId</th>\n",
       "      <th>EventSequence</th>\n",
       "      <th>Label</th>\n",
       "    </tr>\n",
       "  </thead>\n",
       "  <tbody>\n",
       "    <tr>\n",
       "      <th>38</th>\n",
       "      <td>blk_8181993091797661153</td>\n",
       "      <td>[E13]</td>\n",
       "      <td>1</td>\n",
       "    </tr>\n",
       "    <tr>\n",
       "      <th>63</th>\n",
       "      <td>blk_8408125361497769001</td>\n",
       "      <td>[E3]</td>\n",
       "      <td>1</td>\n",
       "    </tr>\n",
       "    <tr>\n",
       "      <th>89</th>\n",
       "      <td>blk_8787656642683881295</td>\n",
       "      <td>[E8]</td>\n",
       "      <td>1</td>\n",
       "    </tr>\n",
       "    <tr>\n",
       "      <th>93</th>\n",
       "      <td>blk_-62891505109755100</td>\n",
       "      <td>[E11]</td>\n",
       "      <td>1</td>\n",
       "    </tr>\n",
       "    <tr>\n",
       "      <th>139</th>\n",
       "      <td>blk_-7105305952901940477</td>\n",
       "      <td>[E6]</td>\n",
       "      <td>1</td>\n",
       "    </tr>\n",
       "    <tr>\n",
       "      <th>...</th>\n",
       "      <td>...</td>\n",
       "      <td>...</td>\n",
       "      <td>...</td>\n",
       "    </tr>\n",
       "    <tr>\n",
       "      <th>1763</th>\n",
       "      <td>blk_-7606467001548719462</td>\n",
       "      <td>[E1]</td>\n",
       "      <td>1</td>\n",
       "    </tr>\n",
       "    <tr>\n",
       "      <th>1856</th>\n",
       "      <td>blk_4516306414837452219</td>\n",
       "      <td>[E4]</td>\n",
       "      <td>1</td>\n",
       "    </tr>\n",
       "    <tr>\n",
       "      <th>1904</th>\n",
       "      <td>blk_9173199815015538212</td>\n",
       "      <td>[E1]</td>\n",
       "      <td>1</td>\n",
       "    </tr>\n",
       "    <tr>\n",
       "      <th>1942</th>\n",
       "      <td>blk_-8571819028995448536</td>\n",
       "      <td>[E10]</td>\n",
       "      <td>1</td>\n",
       "    </tr>\n",
       "    <tr>\n",
       "      <th>1952</th>\n",
       "      <td>blk_-3265479347842446682</td>\n",
       "      <td>[E10]</td>\n",
       "      <td>1</td>\n",
       "    </tr>\n",
       "  </tbody>\n",
       "</table>\n",
       "<p>68 rows × 3 columns</p>\n",
       "</div>"
      ],
      "text/plain": [
       "                       BlockId EventSequence  Label\n",
       "38     blk_8181993091797661153         [E13]      1\n",
       "63     blk_8408125361497769001          [E3]      1\n",
       "89     blk_8787656642683881295          [E8]      1\n",
       "93      blk_-62891505109755100         [E11]      1\n",
       "139   blk_-7105305952901940477          [E6]      1\n",
       "...                        ...           ...    ...\n",
       "1763  blk_-7606467001548719462          [E1]      1\n",
       "1856   blk_4516306414837452219          [E4]      1\n",
       "1904   blk_9173199815015538212          [E1]      1\n",
       "1942  blk_-8571819028995448536         [E10]      1\n",
       "1952  blk_-3265479347842446682         [E10]      1\n",
       "\n",
       "[68 rows x 3 columns]"
      ]
     },
     "execution_count": 38,
     "metadata": {},
     "output_type": "execute_result"
    }
   ],
   "source": [
    "df_hl[df_hl.Label == 1]"
   ]
  },
  {
   "cell_type": "code",
   "execution_count": null,
   "metadata": {},
   "outputs": [],
   "source": []
  },
  {
   "cell_type": "code",
   "execution_count": null,
   "metadata": {},
   "outputs": [],
   "source": []
  },
  {
   "cell_type": "code",
   "execution_count": null,
   "metadata": {},
   "outputs": [],
   "source": []
  },
  {
   "cell_type": "code",
   "execution_count": null,
   "metadata": {},
   "outputs": [],
   "source": []
  },
  {
   "cell_type": "code",
   "execution_count": 101,
   "metadata": {},
   "outputs": [
    {
     "name": "stdout",
     "output_type": "stream",
     "text": [
      "====== Input data summary ======\n",
      "Loading ./HDFS_100k.log_structured.csv\n",
      "156 157\n",
      "Total: 7940 instances, 313 anomaly, 7627 normal\n",
      "Train: 3969 instances, 156 anomaly, 3813 normal\n",
      "Test: 3971 instances, 157 anomaly, 3814 normal\n",
      "\n"
     ]
    }
   ],
   "source": [
    "from Models.loglizer.loglizer import dataloader, preprocessing\n",
    "\n",
    "struct_log = './HDFS_100k.log_structured.csv' # The structured log file\n",
    "label_file = './anomaly_label.csv' # The anomaly label file\n",
    "\n",
    "(x_train, y_train), (x_test, y_test) = dataloader.load_HDFS(struct_log,\n",
    "                     label_file=label_file,\n",
    "                     window='session', \n",
    "                     train_ratio=0.5,\n",
    "                     split_type='uniform')"
   ]
  },
  {
   "cell_type": "code",
   "execution_count": 102,
   "metadata": {},
   "outputs": [
    {
     "name": "stdout",
     "output_type": "stream",
     "text": [
      "====== Transformed train data summary ======\n",
      "Train data shape: 3969-by-14\n",
      "\n",
      "====== Transformed test data summary ======\n",
      "Test data shape: 3971-by-14\n",
      "\n",
      "====== Model summary ======\n",
      "Train validation:\n",
      "====== Evaluation summary ======\n",
      "Precision: 1.000, recall: 0.365, F1-measure: 0.535\n",
      "\n",
      "Test validation:\n",
      "====== Evaluation summary ======\n",
      "Precision: 0.986, recall: 0.433, F1-measure: 0.602\n",
      "\n"
     ]
    }
   ],
   "source": [
    "feature_extractor = preprocessing.FeatureExtractor()\n",
    "x_train = feature_extractor.fit_transform(x_train, term_weighting='tf-idf')\n",
    "x_test = feature_extractor.transform(x_test)\n",
    "\n",
    "model = LR()\n",
    "model.fit(x_train, y_train)\n",
    "\n",
    "print('Train validation:')\n",
    "precision, recall, f1 = model.evaluate(x_train, y_train)\n",
    "\n",
    "print('Test validation:')\n",
    "precision, recall, f1 = model.evaluate(x_test, y_test)"
   ]
  },
  {
   "cell_type": "code",
   "execution_count": null,
   "metadata": {},
   "outputs": [],
   "source": []
  },
  {
   "cell_type": "code",
   "execution_count": null,
   "metadata": {},
   "outputs": [],
   "source": []
  },
  {
   "cell_type": "code",
   "execution_count": null,
   "metadata": {},
   "outputs": [],
   "source": []
  },
  {
   "cell_type": "code",
   "execution_count": null,
   "metadata": {},
   "outputs": [],
   "source": []
  },
  {
   "cell_type": "code",
   "execution_count": null,
   "metadata": {},
   "outputs": [],
   "source": []
  },
  {
   "cell_type": "code",
   "execution_count": 91,
   "metadata": {},
   "outputs": [
    {
     "name": "stdout",
     "output_type": "stream",
     "text": [
      "====== Transformed train data summary ======\n",
      "Train data shape: 997-by-12\n",
      "\n",
      "====== Transformed test data summary ======\n",
      "Test data shape: 997-by-12\n",
      "\n"
     ]
    }
   ],
   "source": [
    "feature_extractor = preprocessing.FeatureExtractor()\n",
    "\n",
    "# Transform training set data\n",
    "x_train = feature_extractor.fit_transform(x_train_hl, term_weighting='tf-idf', \n",
    "                                          normalization='none')\n",
    "# Transform test set data\n",
    "x_test = feature_extractor.transform(x_test_hl)"
   ]
  },
  {
   "cell_type": "code",
   "execution_count": 92,
   "metadata": {},
   "outputs": [
    {
     "name": "stdout",
     "output_type": "stream",
     "text": [
      "====== Model summary ======\n",
      "n_components: 10\n",
      "Project matrix shape: 12-by-12\n",
      "SPE threshold: 0.7488353511487638\n",
      "\n",
      "Train validation:\n",
      "====== Evaluation summary ======\n",
      "Precision: 1.000, recall: 0.059, F1-measure: 0.111\n",
      "\n",
      "Test validation:\n",
      "====== Evaluation summary ======\n",
      "Precision: 1.000, recall: 0.059, F1-measure: 0.111\n",
      "\n"
     ]
    }
   ],
   "source": [
    "# Evaluating various models\n",
    "# First: PCA\n",
    "model1 = pca2()\n",
    "model1.fit(x_train)\n",
    "\n",
    "print('Train validation:')\n",
    "precision, recall, f1 = model1.evaluate(x_train, y_train_hl)\n",
    "\n",
    "print('Test validation:')\n",
    "precision, recall, f1 = model1.evaluate(x_test, y_test_hl)"
   ]
  },
  {
   "cell_type": "code",
   "execution_count": 93,
   "metadata": {},
   "outputs": [
    {
     "data": {
      "text/plain": [
       "array([1, 1, 1, 1, 1, 1, 1, 1, 1, 1, 1, 1, 1, 1, 1, 1, 1, 1, 1, 1, 1, 1,\n",
       "       1, 1, 1, 1, 1, 1, 1, 1, 1, 1])"
      ]
     },
     "execution_count": 93,
     "metadata": {},
     "output_type": "execute_result"
    }
   ],
   "source": [
    "y_test_pred = model1.predict(x_test)\n",
    "y_test_hl[y_test_pred!=y_test_hl]"
   ]
  },
  {
   "cell_type": "code",
   "execution_count": null,
   "metadata": {},
   "outputs": [],
   "source": []
  },
  {
   "cell_type": "code",
   "execution_count": 97,
   "metadata": {},
   "outputs": [
    {
     "name": "stdout",
     "output_type": "stream",
     "text": [
      "====== Transformed train data summary ======\n",
      "Train data shape: 997-by-15\n",
      "\n",
      "====== Transformed test data summary ======\n",
      "Test data shape: 997-by-15\n",
      "\n",
      "====== Model summary ======\n",
      "Train validation:\n",
      "====== Evaluation summary ======\n",
      "Precision: 1.000, recall: 0.059, F1-measure: 0.111\n",
      "\n",
      "Test validation:\n",
      "====== Evaluation summary ======\n",
      "Precision: 1.000, recall: 0.059, F1-measure: 0.111\n",
      "\n"
     ]
    }
   ],
   "source": [
    "# LR\n",
    "from Models.loglizer.loglizer.models import LR\n",
    "\n",
    "x_train = feature_extractor.fit_transform(x_train, term_weighting='tf-idf')\n",
    "x_test = feature_extractor.transform(x_test)\n",
    "\n",
    "model = LR()\n",
    "model.fit(x_train, y_train_hl)\n",
    "\n",
    "print('Train validation:')\n",
    "precision, recall, f1 = model.evaluate(x_train, y_train_hl)\n",
    "\n",
    "print('Test validation:')\n",
    "precision, recall, f1 = model.evaluate(x_test, y_test_hl)"
   ]
  },
  {
   "cell_type": "code",
   "execution_count": null,
   "metadata": {},
   "outputs": [],
   "source": []
  },
  {
   "cell_type": "code",
   "execution_count": null,
   "metadata": {},
   "outputs": [],
   "source": []
  },
  {
   "cell_type": "code",
   "execution_count": null,
   "metadata": {},
   "outputs": [],
   "source": []
  },
  {
   "cell_type": "code",
   "execution_count": null,
   "metadata": {},
   "outputs": [],
   "source": []
  },
  {
   "cell_type": "code",
   "execution_count": null,
   "metadata": {},
   "outputs": [],
   "source": []
  },
  {
   "cell_type": "markdown",
   "metadata": {},
   "source": [
    "### Analysis\n",
    "This is an imbalanced classification problem. Precision is 100% (for both training and test sets) which is a good sign as no anomalous log event is misclassified.\n",
    "\n"
   ]
  },
  {
   "cell_type": "code",
   "execution_count": 75,
   "metadata": {},
   "outputs": [],
   "source": [
    "from sklearn.discriminant_analysis import QuadraticDiscriminantAnalysis"
   ]
  },
  {
   "cell_type": "code",
   "execution_count": 78,
   "metadata": {},
   "outputs": [
    {
     "name": "stderr",
     "output_type": "stream",
     "text": [
      "/home/aamir/miniconda3/lib/python3.8/site-packages/sklearn/discriminant_analysis.py:715: UserWarning: Variables are collinear\n",
      "  warnings.warn(\"Variables are collinear\")\n"
     ]
    },
    {
     "data": {
      "text/plain": [
       "0.16950852557673018"
      ]
     },
     "execution_count": 78,
     "metadata": {},
     "output_type": "execute_result"
    }
   ],
   "source": [
    "qda = QuadraticDiscriminantAnalysis(store_covariance=True)\n",
    "y_pred = qda.fit(x_train, y_train_hl).predict(x_train)\n",
    "qda.score(x_train,y_train_hl)"
   ]
  },
  {
   "cell_type": "code",
   "execution_count": null,
   "metadata": {},
   "outputs": [],
   "source": []
  },
  {
   "cell_type": "code",
   "execution_count": null,
   "metadata": {},
   "outputs": [],
   "source": []
  },
  {
   "cell_type": "code",
   "execution_count": null,
   "metadata": {},
   "outputs": [],
   "source": []
  },
  {
   "cell_type": "code",
   "execution_count": 14,
   "metadata": {},
   "outputs": [
    {
     "name": "stdout",
     "output_type": "stream",
     "text": [
      "====== Transformed train data summary ======\n",
      "Train data shape: 997-by-12\n",
      "\n"
     ]
    },
    {
     "ename": "NameError",
     "evalue": "name 'x_test' is not defined",
     "output_type": "error",
     "traceback": [
      "\u001b[0;31m---------------------------------------------------------------------------\u001b[0m",
      "\u001b[0;31mNameError\u001b[0m                                 Traceback (most recent call last)",
      "\u001b[0;32m<ipython-input-14-eb51adfda65b>\u001b[0m in \u001b[0;36m<module>\u001b[0;34m\u001b[0m\n\u001b[1;32m      6\u001b[0m                                           normalization='zero-mean')\n\u001b[1;32m      7\u001b[0m \u001b[0;31m#feature_extractor.transform(x_test) is to used the FITTED model and transformed the TESTING matrix\u001b[0m\u001b[0;34m\u001b[0m\u001b[0;34m\u001b[0m\u001b[0;34m\u001b[0m\u001b[0m\n\u001b[0;32m----> 8\u001b[0;31m \u001b[0mx_test\u001b[0m \u001b[0;34m=\u001b[0m \u001b[0mfeature_extractor\u001b[0m\u001b[0;34m.\u001b[0m\u001b[0mtransform\u001b[0m\u001b[0;34m(\u001b[0m\u001b[0mx_test\u001b[0m\u001b[0;34m)\u001b[0m\u001b[0;34m\u001b[0m\u001b[0;34m\u001b[0m\u001b[0m\n\u001b[0m\u001b[1;32m      9\u001b[0m \u001b[0;31m#PCA Model functions: model.fit()\u001b[0m\u001b[0;34m\u001b[0m\u001b[0;34m\u001b[0m\u001b[0;34m\u001b[0m\u001b[0m\n\u001b[1;32m     10\u001b[0m \u001b[0;31m#PCA Model functions: model.predict()\u001b[0m\u001b[0;34m\u001b[0m\u001b[0;34m\u001b[0m\u001b[0;34m\u001b[0m\u001b[0m\n",
      "\u001b[0;31mNameError\u001b[0m: name 'x_test' is not defined"
     ]
    }
   ],
   "source": [
    "feature_extractor = preprocessing.FeatureExtractor()\n",
    "#feature_extractor.fit_transform(x_train) is to fit and transform the TRAINING matrix\n",
    "#Transform Parameters: term_weighting = 'tf-idf' or None\n",
    "#Transform Parameters: term_weighting = 'zero-mean' or None\n",
    "x_train = feature_extractor.fit_transform(x_train_hl, term_weighting='tf-idf', \n",
    "                                          normalization='zero-mean')\n",
    "#feature_extractor.transform(x_test) is to used the FITTED model and transformed the TESTING matrix \n",
    "x_test = feature_extractor.transform(x_test)\n",
    "#PCA Model functions: model.fit()\n",
    "#PCA Model functions: model.predict()\n",
    "#PCA Model functions: model.evaluate()\n",
    "model = PCA()\n",
    "model.fit(x_train)"
   ]
  },
  {
   "cell_type": "code",
   "execution_count": null,
   "metadata": {},
   "outputs": [],
   "source": []
  }
 ],
 "metadata": {
  "kernelspec": {
   "display_name": "Python 3",
   "language": "python",
   "name": "python3"
  },
  "language_info": {
   "codemirror_mode": {
    "name": "ipython",
    "version": 3
   },
   "file_extension": ".py",
   "mimetype": "text/x-python",
   "name": "python",
   "nbconvert_exporter": "python",
   "pygments_lexer": "ipython3",
   "version": "3.8.3"
  }
 },
 "nbformat": 4,
 "nbformat_minor": 4
}
