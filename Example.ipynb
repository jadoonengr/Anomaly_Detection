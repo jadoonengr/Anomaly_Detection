{
 "cells": [
  {
   "cell_type": "markdown",
   "metadata": {},
   "source": [
    "***Steps***  \n",
    "***Part 1: Log Collection/Cleaning***\n",
    "1. Run `parser.py` file in '/Parsing'. Will parse files in 'rawlogs' into 'cleanlogs'. Creates log_structured.csv and log_templates.csv.\n",
    "- Example code: `%run parser.py`\n",
    "2. Use `clean_logs()` to clean log_structured.csv. Rename events to E1, E2 etc., creates log_structured_clean.csv.\n",
    "- Example code: `clean_logs(\"./Parsing/cleanlogs/Zookeeper_2k.log_structured.csv\",\"./Parsing/cleanlogs/Zookeeper_2k.log_templates.csv\",\"Zookeeper\")`.  \n",
    "2. 1:  For labeled data use `label_log()` to label your log_structured_clean.csv log into log_labelled.csv. ***Use for HDFS only***\n",
    "- Example code: `label_log(\"./Parsing/cleanlogs/HDFS_structured_clean.csv\",\"./Parsing/rawlogs/anomaly_label.csv\")`.  \n",
    "     \n",
    "***Part 2: Log Parsing and Feature Extraction***  \n",
    "3. Use `_session_window()` or `_fixed_window()` or `_sliding_window()` to parse and extract events from your log_structured_clean.csv or log_labelled.csv file. ***_session_window() for HDFS only***\n",
    "- Example code (labelled): `x,y,df = _session_window(data_file=\"./Parsing/cleanlogs/HDFS_labelled.csv\",labels=True)`.  \n",
    "- Example code: `x,y,df = _fixed_window(data_file=\"./Parsing/cleanlogs/Zookeeper_structured_clean.csv\",windowsize=2,log_type=\"Zookeeper\")`.  \n",
    "4. Use `_split_data()` to split x,y into training and testing sets.  ***split_type = 'uniform' is only for Labeled Data***.  \n",
    "- Example code (labeled): = `(x_train,y_train),(x_test,y_test) = _split_data(x,y,train_ratio=0.5,split_type=\"uniform\")`.  \n",
    "- Example code (unlabeled): `(x_train, _),( x_test, _) = _split_data(x,y=None,train_ratio=0.5,split_type=\"sequential\")`.  \n"
   ]
  },
  {
   "cell_type": "code",
   "execution_count": 1,
   "metadata": {},
   "outputs": [],
   "source": [
    "#Parsing and Feature Extreaction\n",
    "import Parsing.clean_parse_extract as cpe"
   ]
  },
  {
   "cell_type": "code",
   "execution_count": 2,
   "metadata": {},
   "outputs": [],
   "source": [
    "#2\n",
    "cpe.clean_logs(\"./Parsing/cleanlogs/HDFS_2k.log_structured.csv\",\"./Parsing/cleanlogs/HDFS_2k.log_templates.csv\",\"HDFS\")\n",
    "cpe.clean_logs(\"./Parsing/cleanlogs/Zookeeper_2k.log_structured.csv\",\"./Parsing/cleanlogs/Zookeeper_2k.log_templates.csv\",\"Zookeeper\")"
   ]
  },
  {
   "cell_type": "code",
   "execution_count": 3,
   "metadata": {},
   "outputs": [],
   "source": [
    "#2.1 *Run on HDFS to get unique blk_ids\n",
    "cpe.label_log(\"./Parsing/cleanlogs/HDFS_structured_clean.csv\",\"./Parsing/rawlogs/anomaly_label.csv\")"
   ]
  },
  {
   "cell_type": "code",
   "execution_count": 4,
   "metadata": {},
   "outputs": [
    {
     "name": "stdout",
     "output_type": "stream",
     "text": [
      "Number of unique blk_ids:  1994\n",
      "Number of windows:  253\n",
      "Number of window slides:  252\n",
      "Number of windows:  15\n",
      "Number of window slides:  14\n"
     ]
    }
   ],
   "source": [
    "#3\n",
    "x_hl,y_hl,df_hl = cpe._session_window(data_file=\"./Parsing/cleanlogs/HDFS_labelled.csv\",labels=True)\n",
    "x_z,y_z,df_z = cpe._fixed_window(data_file=\"./Parsing/cleanlogs/Zookeeper_structured_clean.csv\",windowsize=2,log_type=\"Zookeeper\")\n",
    "x_h,y_h,df_h = cpe._sliding_window(data_file=\"./Parsing/cleanlogs/HDFS_labelled.csv\",windowsize=5,windowslide=2,log_type = \"HDFS\")"
   ]
  },
  {
   "cell_type": "code",
   "execution_count": 5,
   "metadata": {},
   "outputs": [
    {
     "data": {
      "text/html": [
       "<div>\n",
       "<style scoped>\n",
       "    .dataframe tbody tr th:only-of-type {\n",
       "        vertical-align: middle;\n",
       "    }\n",
       "\n",
       "    .dataframe tbody tr th {\n",
       "        vertical-align: top;\n",
       "    }\n",
       "\n",
       "    .dataframe thead th {\n",
       "        text-align: right;\n",
       "    }\n",
       "</style>\n",
       "<table border=\"1\" class=\"dataframe\">\n",
       "  <thead>\n",
       "    <tr style=\"text-align: right;\">\n",
       "      <th></th>\n",
       "      <th>window_id</th>\n",
       "      <th>EventSequence</th>\n",
       "    </tr>\n",
       "  </thead>\n",
       "  <tbody>\n",
       "    <tr>\n",
       "      <th>0</th>\n",
       "      <td>window1</td>\n",
       "      <td>[E8, E17, E31, E41, E41, E28, E28, E14, E9, E2...</td>\n",
       "    </tr>\n",
       "    <tr>\n",
       "      <th>1</th>\n",
       "      <td>window2</td>\n",
       "      <td>[E21, E34, E15, E34, E22, E22, E21, E22, E9, E...</td>\n",
       "    </tr>\n",
       "    <tr>\n",
       "      <th>2</th>\n",
       "      <td>window3</td>\n",
       "      <td>[E30, E15, E34, E22, E25]</td>\n",
       "    </tr>\n",
       "  </tbody>\n",
       "</table>\n",
       "</div>"
      ],
      "text/plain": [
       "  window_id                                      EventSequence\n",
       "0   window1  [E8, E17, E31, E41, E41, E28, E28, E14, E9, E2...\n",
       "1   window2  [E21, E34, E15, E34, E22, E22, E21, E22, E9, E...\n",
       "2   window3                          [E30, E15, E34, E22, E25]"
      ]
     },
     "execution_count": 5,
     "metadata": {},
     "output_type": "execute_result"
    }
   ],
   "source": [
    "df_z.head(3)"
   ]
  },
  {
   "cell_type": "code",
   "execution_count": 6,
   "metadata": {},
   "outputs": [
    {
     "data": {
      "text/html": [
       "<div>\n",
       "<style scoped>\n",
       "    .dataframe tbody tr th:only-of-type {\n",
       "        vertical-align: middle;\n",
       "    }\n",
       "\n",
       "    .dataframe tbody tr th {\n",
       "        vertical-align: top;\n",
       "    }\n",
       "\n",
       "    .dataframe thead th {\n",
       "        text-align: right;\n",
       "    }\n",
       "</style>\n",
       "<table border=\"1\" class=\"dataframe\">\n",
       "  <thead>\n",
       "    <tr style=\"text-align: right;\">\n",
       "      <th></th>\n",
       "      <th>window_id</th>\n",
       "      <th>EventSequence</th>\n",
       "    </tr>\n",
       "  </thead>\n",
       "  <tbody>\n",
       "    <tr>\n",
       "      <th>0</th>\n",
       "      <td>window1</td>\n",
       "      <td>[E2, E2, E13, E2, E2, E13, E13, E13, E2, E3, E...</td>\n",
       "    </tr>\n",
       "    <tr>\n",
       "      <th>1</th>\n",
       "      <td>window2</td>\n",
       "      <td>[E3, E13, E3, E10, E10, E2, E10, E13, E13, E2,...</td>\n",
       "    </tr>\n",
       "    <tr>\n",
       "      <th>2</th>\n",
       "      <td>window3</td>\n",
       "      <td>[E8, E11, E8, E8, E8, E8, E8, E8, E11, E8, E11...</td>\n",
       "    </tr>\n",
       "  </tbody>\n",
       "</table>\n",
       "</div>"
      ],
      "text/plain": [
       "  window_id                                      EventSequence\n",
       "0   window1  [E2, E2, E13, E2, E2, E13, E13, E13, E2, E3, E...\n",
       "1   window2  [E3, E13, E3, E10, E10, E2, E10, E13, E13, E2,...\n",
       "2   window3  [E8, E11, E8, E8, E8, E8, E8, E8, E11, E8, E11..."
      ]
     },
     "execution_count": 6,
     "metadata": {},
     "output_type": "execute_result"
    }
   ],
   "source": [
    "df_h.head(3)"
   ]
  },
  {
   "cell_type": "code",
   "execution_count": 7,
   "metadata": {},
   "outputs": [
    {
     "data": {
      "text/html": [
       "<div>\n",
       "<style scoped>\n",
       "    .dataframe tbody tr th:only-of-type {\n",
       "        vertical-align: middle;\n",
       "    }\n",
       "\n",
       "    .dataframe tbody tr th {\n",
       "        vertical-align: top;\n",
       "    }\n",
       "\n",
       "    .dataframe thead th {\n",
       "        text-align: right;\n",
       "    }\n",
       "</style>\n",
       "<table border=\"1\" class=\"dataframe\">\n",
       "  <thead>\n",
       "    <tr style=\"text-align: right;\">\n",
       "      <th></th>\n",
       "      <th>BlockId</th>\n",
       "      <th>EventSequence</th>\n",
       "      <th>Label</th>\n",
       "    </tr>\n",
       "  </thead>\n",
       "  <tbody>\n",
       "    <tr>\n",
       "      <th>0</th>\n",
       "      <td>blk_38865049064139660</td>\n",
       "      <td>[E2]</td>\n",
       "      <td>0</td>\n",
       "    </tr>\n",
       "    <tr>\n",
       "      <th>1</th>\n",
       "      <td>blk_-6952295868487656571</td>\n",
       "      <td>[E2]</td>\n",
       "      <td>0</td>\n",
       "    </tr>\n",
       "    <tr>\n",
       "      <th>2</th>\n",
       "      <td>blk_7128370237687728475</td>\n",
       "      <td>[E13]</td>\n",
       "      <td>0</td>\n",
       "    </tr>\n",
       "  </tbody>\n",
       "</table>\n",
       "</div>"
      ],
      "text/plain": [
       "                    BlockId EventSequence  Label\n",
       "0     blk_38865049064139660          [E2]      0\n",
       "1  blk_-6952295868487656571          [E2]      0\n",
       "2   blk_7128370237687728475         [E13]      0"
      ]
     },
     "execution_count": 7,
     "metadata": {},
     "output_type": "execute_result"
    }
   ],
   "source": [
    "df_hl.head(3)"
   ]
  },
  {
   "cell_type": "code",
   "execution_count": 8,
   "metadata": {},
   "outputs": [
    {
     "name": "stdout",
     "output_type": "stream",
     "text": [
      "Size of training set:  227\n",
      "Size of testing set:  26\n",
      "Size of total data set:  253\n",
      "Size of training set:  997\n",
      "Size of testing set:  997\n",
      "Size of total data set:  1994\n"
     ]
    }
   ],
   "source": [
    "#4\n",
    "(x_train_z,_), (x_test_z,_) = cpe._split_data(x_z,y_z,train_ratio = 0.9, split_type = 'sequential')\n",
    "(x_train_hl,y_train_hl), (x_test_hl,y_test_hl) = cpe._split_data(x_hl,y_hl,train_ratio = 0.5, split_type = 'uniform')"
   ]
  },
  {
   "cell_type": "markdown",
   "metadata": {},
   "source": [
    "----\n",
    "***Part 3: Feature Engineering***  \n",
    "\n",
    "3. Use `fit_transform()` method from `FeatureExtractor` class to transform the input training data event sequence matrix into an output of transformed data matrix.\n",
    "\n",
    "- Example code: `x_train = feature_extractor.fit_transform(x_train_hl, term_weighting='tf-idf', normalization='none')`.   \n",
    "\n",
    "4. Next use `transform()` method from `FeatureExtractor` class to transform the input test data event sequence matrix into an output of transformed data matrix.\n",
    "\n",
    "- Example code: `x_test = feature_extractor.transform(x_test_hl)`"
   ]
  },
  {
   "cell_type": "code",
   "execution_count": 23,
   "metadata": {},
   "outputs": [
    {
     "name": "stdout",
     "output_type": "stream",
     "text": [
      "====== Transformed train data summary ======\n",
      "Train data shape: 997-by-12\n",
      "\n",
      "====== Transformed test data summary ======\n",
      "Test data shape: 997-by-12\n",
      "\n"
     ]
    }
   ],
   "source": [
    "#For Modelling\n",
    "from Models.loglizer.loglizer import preprocessing\n",
    "\n",
    "feature_extractor = preprocessing.FeatureExtractor()\n",
    "\n",
    "# Transform training set data\n",
    "x_train = feature_extractor.fit_transform(x_train_hl, term_weighting='tf-idf', \n",
    "                                          normalization='none')\n",
    "# Transform test set data\n",
    "x_test = feature_extractor.transform(x_test_hl)"
   ]
  },
  {
   "cell_type": "code",
   "execution_count": 24,
   "metadata": {},
   "outputs": [
    {
     "data": {
      "text/plain": [
       "(997,)"
      ]
     },
     "execution_count": 24,
     "metadata": {},
     "output_type": "execute_result"
    }
   ],
   "source": [
    "x_train_hl.shape"
   ]
  },
  {
   "cell_type": "code",
   "execution_count": 25,
   "metadata": {},
   "outputs": [
    {
     "data": {
      "text/plain": [
       "(997, 12)"
      ]
     },
     "execution_count": 25,
     "metadata": {},
     "output_type": "execute_result"
    }
   ],
   "source": [
    "x_train.shape"
   ]
  },
  {
   "cell_type": "code",
   "execution_count": 26,
   "metadata": {},
   "outputs": [
    {
     "data": {
      "text/plain": [
       "['E13']"
      ]
     },
     "execution_count": 26,
     "metadata": {},
     "output_type": "execute_result"
    }
   ],
   "source": [
    "x_train_hl[0]"
   ]
  },
  {
   "cell_type": "code",
   "execution_count": 27,
   "metadata": {},
   "outputs": [
    {
     "data": {
      "text/plain": [
       "array([1.95599088, 0.        , 0.        , 0.        , 0.        ,\n",
       "       0.        , 0.        , 0.        , 0.        , 0.        ,\n",
       "       0.        , 0.        ])"
      ]
     },
     "execution_count": 27,
     "metadata": {},
     "output_type": "execute_result"
    }
   ],
   "source": [
    "x_train[0]"
   ]
  },
  {
   "cell_type": "markdown",
   "metadata": {},
   "source": [
    "----\n",
    "***Part 4: Modeling***  \n",
    "\n",
    "5. Use `fit()` method for `SVM` and `LR` class objects to use input training data to train SVM model.\n",
    "\n",
    "- Example code: `mdl_svm.fit(x_train, y_train_hl)`.   \n",
    "\n",
    "\n",
    "### Supervised Model"
   ]
  },
  {
   "cell_type": "code",
   "execution_count": 38,
   "metadata": {},
   "outputs": [
    {
     "name": "stdout",
     "output_type": "stream",
     "text": [
      "====== Model summary ======\n",
      "Train validation:\n",
      "====== Evaluation summary ======\n",
      "Precision: 1.000, recall: 0.059, F1-measure: 0.111\n",
      "\n",
      "Test validation:\n",
      "====== Evaluation summary ======\n",
      "Precision: 1.000, recall: 0.059, F1-measure: 0.111\n",
      "\n"
     ]
    }
   ],
   "source": [
    "# Support Vector Machines\n",
    "\n",
    "from Models.loglizer.loglizer.models import SVM\n",
    "\n",
    "mdl_svm = SVM()\n",
    "mdl_svm.fit(x_train, y_train_hl)\n",
    "\n",
    "print('Train validation:')\n",
    "precision, recall, f1 = mdl_svm.evaluate(x_train, y_train_hl)\n",
    "\n",
    "print('Test validation:')\n",
    "precision, recall, f1 = mdl_svm.evaluate(x_test, y_test_hl)"
   ]
  },
  {
   "cell_type": "code",
   "execution_count": 39,
   "metadata": {},
   "outputs": [
    {
     "data": {
      "text/plain": [
       "array([1, 1, 1, 1, 1, 1, 1, 1, 1, 1, 1, 1, 1, 1, 1, 1, 1, 1, 1, 1, 1, 1,\n",
       "       1, 1, 1, 1, 1, 1, 1, 1, 1, 1])"
      ]
     },
     "execution_count": 39,
     "metadata": {},
     "output_type": "execute_result"
    }
   ],
   "source": [
    "y_test_pred = mdl_svm.predict(x_test)\n",
    "y_test_hl[y_test_pred!=y_test_hl]"
   ]
  },
  {
   "cell_type": "code",
   "execution_count": 40,
   "metadata": {},
   "outputs": [
    {
     "name": "stdout",
     "output_type": "stream",
     "text": [
      "====== Model summary ======\n",
      "Train validation:\n",
      "====== Evaluation summary ======\n",
      "Precision: 1.000, recall: 0.059, F1-measure: 0.111\n",
      "\n",
      "Test validation:\n",
      "====== Evaluation summary ======\n",
      "Precision: 1.000, recall: 0.059, F1-measure: 0.111\n",
      "\n"
     ]
    }
   ],
   "source": [
    "# Logistic Regression\n",
    "\n",
    "from Models.loglizer.loglizer.models import LR\n",
    "\n",
    "mdl_lr = LR()\n",
    "mdl_lr.fit(x_train, y_train_hl)\n",
    "\n",
    "print('Train validation:')\n",
    "precision, recall, f1 = mdl_lr.evaluate(x_train, y_train_hl)\n",
    "\n",
    "print('Test validation:')\n",
    "precision, recall, f1 = mdl_lr.evaluate(x_test, y_test_hl)"
   ]
  },
  {
   "cell_type": "code",
   "execution_count": 41,
   "metadata": {},
   "outputs": [
    {
     "data": {
      "text/plain": [
       "array([1, 1, 1, 1, 1, 1, 1, 1, 1, 1, 1, 1, 1, 1, 1, 1, 1, 1, 1, 1, 1, 1,\n",
       "       1, 1, 1, 1, 1, 1, 1, 1, 1, 1])"
      ]
     },
     "execution_count": 41,
     "metadata": {},
     "output_type": "execute_result"
    }
   ],
   "source": [
    "y_test_pred = mdl_lr.predict(x_test)\n",
    "y_test_hl[y_test_pred!=y_test_hl]"
   ]
  },
  {
   "cell_type": "markdown",
   "metadata": {},
   "source": [
    "### Result\n",
    "- This is an imbalanced classification problem. Accuracy will not be a good metric to consider for such data.\n",
    "- Precision is 100% (for both training and test sets). This shows that for predicted TRUE, proportion of data that are TRUE. Hence all that were predicted true were correct.\n",
    "- Recall is 5.9% which is quite low. Recall means of the actual TRUE labels, how many were correctly predicted. This metric is quite low.\n",
    "- F1 score is ver low at 11% which indicates that the model is not working quite well.\n",
    "- If we observe the misclassified data values, all are the anomalous events that were misclassified.\n",
    "\n",
    "### Analysis\n",
    "- This shows that the data provided is not enough to train the model properly.\n",
    "- Things are aggravated due to high class imbalance. Only 0.03 (3%) of the data events are anomalies that is affecting the results.\n",
    "- We can improve resulting scores by gathering more data, especially having anomalous events data."
   ]
  },
  {
   "cell_type": "markdown",
   "metadata": {},
   "source": [
    "## Unsupervised Model"
   ]
  },
  {
   "cell_type": "code",
   "execution_count": 48,
   "metadata": {},
   "outputs": [
    {
     "name": "stdout",
     "output_type": "stream",
     "text": [
      "====== Model summary ======\n",
      "n_components: 10\n",
      "Project matrix shape: 12-by-12\n",
      "SPE threshold: 0.7488353511487638\n",
      "\n",
      "Test phase:\n"
     ]
    }
   ],
   "source": [
    "from Models.loglizer.loglizer.models import PCA\n",
    "\n",
    "mdl_pca = PCA() \n",
    "mdl_pca.fit(x_train)\n",
    "y_train = mdl_pca.predict(x_train) \n",
    "\n",
    "print('Test phase:')\n",
    "y_test = mdl_pca.predict(x_test)"
   ]
  },
  {
   "cell_type": "code",
   "execution_count": 47,
   "metadata": {},
   "outputs": [
    {
     "data": {
      "text/plain": [
       "(997, 12)"
      ]
     },
     "execution_count": 47,
     "metadata": {},
     "output_type": "execute_result"
    }
   ],
   "source": [
    "x_train.shape"
   ]
  },
  {
   "cell_type": "code",
   "execution_count": 46,
   "metadata": {},
   "outputs": [
    {
     "data": {
      "text/plain": [
       "(997,)"
      ]
     },
     "execution_count": 46,
     "metadata": {},
     "output_type": "execute_result"
    }
   ],
   "source": [
    "y_test.shape"
   ]
  },
  {
   "cell_type": "code",
   "execution_count": null,
   "metadata": {},
   "outputs": [],
   "source": []
  },
  {
   "cell_type": "code",
   "execution_count": null,
   "metadata": {},
   "outputs": [],
   "source": []
  },
  {
   "cell_type": "code",
   "execution_count": null,
   "metadata": {},
   "outputs": [],
   "source": []
  },
  {
   "cell_type": "code",
   "execution_count": null,
   "metadata": {},
   "outputs": [],
   "source": []
  },
  {
   "cell_type": "code",
   "execution_count": null,
   "metadata": {},
   "outputs": [],
   "source": []
  },
  {
   "cell_type": "code",
   "execution_count": null,
   "metadata": {},
   "outputs": [],
   "source": []
  },
  {
   "cell_type": "code",
   "execution_count": null,
   "metadata": {},
   "outputs": [],
   "source": []
  },
  {
   "cell_type": "code",
   "execution_count": null,
   "metadata": {},
   "outputs": [],
   "source": []
  },
  {
   "cell_type": "code",
   "execution_count": null,
   "metadata": {},
   "outputs": [],
   "source": []
  },
  {
   "cell_type": "code",
   "execution_count": null,
   "metadata": {},
   "outputs": [],
   "source": []
  },
  {
   "cell_type": "code",
   "execution_count": null,
   "metadata": {},
   "outputs": [],
   "source": []
  },
  {
   "cell_type": "code",
   "execution_count": null,
   "metadata": {},
   "outputs": [],
   "source": []
  },
  {
   "cell_type": "code",
   "execution_count": null,
   "metadata": {},
   "outputs": [],
   "source": []
  },
  {
   "cell_type": "code",
   "execution_count": null,
   "metadata": {},
   "outputs": [],
   "source": []
  },
  {
   "cell_type": "code",
   "execution_count": null,
   "metadata": {},
   "outputs": [],
   "source": []
  },
  {
   "cell_type": "code",
   "execution_count": null,
   "metadata": {},
   "outputs": [],
   "source": []
  },
  {
   "cell_type": "code",
   "execution_count": null,
   "metadata": {},
   "outputs": [],
   "source": []
  },
  {
   "cell_type": "code",
   "execution_count": null,
   "metadata": {},
   "outputs": [],
   "source": []
  },
  {
   "cell_type": "code",
   "execution_count": null,
   "metadata": {},
   "outputs": [],
   "source": []
  },
  {
   "cell_type": "code",
   "execution_count": null,
   "metadata": {},
   "outputs": [],
   "source": []
  },
  {
   "cell_type": "code",
   "execution_count": null,
   "metadata": {},
   "outputs": [],
   "source": []
  },
  {
   "cell_type": "code",
   "execution_count": null,
   "metadata": {},
   "outputs": [],
   "source": []
  },
  {
   "cell_type": "code",
   "execution_count": null,
   "metadata": {},
   "outputs": [],
   "source": []
  },
  {
   "cell_type": "code",
   "execution_count": null,
   "metadata": {},
   "outputs": [],
   "source": []
  },
  {
   "cell_type": "code",
   "execution_count": null,
   "metadata": {},
   "outputs": [],
   "source": []
  },
  {
   "cell_type": "code",
   "execution_count": null,
   "metadata": {},
   "outputs": [],
   "source": []
  },
  {
   "cell_type": "code",
   "execution_count": null,
   "metadata": {},
   "outputs": [],
   "source": []
  },
  {
   "cell_type": "code",
   "execution_count": null,
   "metadata": {},
   "outputs": [],
   "source": []
  },
  {
   "cell_type": "code",
   "execution_count": null,
   "metadata": {},
   "outputs": [],
   "source": []
  },
  {
   "cell_type": "code",
   "execution_count": null,
   "metadata": {},
   "outputs": [],
   "source": []
  },
  {
   "cell_type": "code",
   "execution_count": null,
   "metadata": {},
   "outputs": [],
   "source": []
  },
  {
   "cell_type": "code",
   "execution_count": null,
   "metadata": {},
   "outputs": [],
   "source": []
  },
  {
   "cell_type": "code",
   "execution_count": null,
   "metadata": {},
   "outputs": [],
   "source": []
  },
  {
   "cell_type": "code",
   "execution_count": null,
   "metadata": {},
   "outputs": [],
   "source": []
  },
  {
   "cell_type": "code",
   "execution_count": null,
   "metadata": {},
   "outputs": [],
   "source": []
  }
 ],
 "metadata": {
  "kernelspec": {
   "display_name": "Python 3",
   "language": "python",
   "name": "python3"
  },
  "language_info": {
   "codemirror_mode": {
    "name": "ipython",
    "version": 3
   },
   "file_extension": ".py",
   "mimetype": "text/x-python",
   "name": "python",
   "nbconvert_exporter": "python",
   "pygments_lexer": "ipython3",
   "version": "3.8.3"
  }
 },
 "nbformat": 4,
 "nbformat_minor": 4
}
