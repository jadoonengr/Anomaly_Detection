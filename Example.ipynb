{
 "cells": [
  {
   "cell_type": "markdown",
   "metadata": {},
   "source": [
    "***Steps***  \n",
    "***Part 1: Log Collection/Cleaning***\n",
    "1. Run `parser.py` file in '/Parsing'. Will parse files in 'rawlogs' into 'cleanlogs'. Creates log_structured.csv and log_templates.csv.\n",
    "- Example code: `%run parser.py`\n",
    "2. Use `clean_logs()` to clean log_structured.csv. Rename events to E1, E2 etc., creates log_structured_clean.csv.\n",
    "- Example code: `clean_logs(\"./Parsing/cleanlogs/Zookeeper_2k.log_structured.csv\",\"./Parsing/cleanlogs/Zookeeper_2k.log_templates.csv\",\"Zookeeper\")`.  \n",
    "2. 1:  For labeled data use `label_log()` to label your log_structured_clean.csv log into log_labelled.csv. ***Currently for HDFS only***\n",
    "- Example code: `label_log(\"./Parsing/cleanlogs/HDFS_structured_clean.csv\",\"./Parsing/rawlogs/anomaly_label.csv\")`.  \n",
    "     \n",
    "***Part 2: Log Parsing and Feature Extraction***  \n",
    "3. Use `_session_window()` or `_fixed_window()` to parse and extract events from your log_structured_clean.csv or log_labelled.csv file. ***_session_window() for HDFS only***\n",
    "- Example code (labelled): `x,y,df = _session_window(data_file=\"./Parsing/cleanlogs/HDFS_labelled.csv\",labels=True)`.  \n",
    "- Example code: `x,y,df = _fixed_window(data_file=\"./Parsing/cleanlogs/Zookeeper_structured_clean.csv\",windowsize=2,log_type=\"Zookeeper\")`.  \n",
    "4. Use `_split_data()` to split x,y into training and testing sets.  ***split_type = 'uniform' is only for Labeled Data***.  \n",
    "- Example code (labeled): = `(x_train,y_train),(x_test,y_test) = _split_data(x,y,train_ratio=0.5,split_type=\"uniform\")`.  \n",
    "- Example code (unlabeled): `(x_train, _),( x_test, _) = _split_data(x,y=None,train_ratio=0.5,split_type=\"sequential\")`.  \n"
   ]
  },
  {
   "cell_type": "code",
   "execution_count": 1,
   "metadata": {},
   "outputs": [],
   "source": [
    "import Parsing.clean_parse_extract as cpe"
   ]
  },
  {
   "cell_type": "code",
   "execution_count": 2,
   "metadata": {},
   "outputs": [
    {
     "name": "stdout",
     "output_type": "stream",
     "text": [
      "./Parsing/cleanlogs/HDFS_structured_clean.csv created.\n",
      "./Parsing/cleanlogs/Zookeeper_structured_clean.csv created.\n"
     ]
    }
   ],
   "source": [
    "#2\n",
    "cpe.clean_logs(\"./Parsing/cleanlogs/HDFS_2k.log_structured.csv\",\"./Parsing/cleanlogs/HDFS_2k.log_templates.csv\",\"HDFS\")\n",
    "cpe.clean_logs(\"./Parsing/cleanlogs/Zookeeper_2k.log_structured.csv\",\"./Parsing/cleanlogs/Zookeeper_2k.log_templates.csv\",\"Zookeeper\")"
   ]
  },
  {
   "cell_type": "code",
   "execution_count": 3,
   "metadata": {},
   "outputs": [
    {
     "name": "stdout",
     "output_type": "stream",
     "text": [
      "./Parsing/cleanlogs/HDFS_labelled.csv created.\n"
     ]
    }
   ],
   "source": [
    "#2.1\n",
    "cpe.label_log(\"./Parsing/cleanlogs/HDFS_structured_clean.csv\",\"./Parsing/rawlogs/anomaly_label.csv\")"
   ]
  },
  {
   "cell_type": "code",
   "execution_count": 4,
   "metadata": {},
   "outputs": [
    {
     "name": "stdout",
     "output_type": "stream",
     "text": [
      "Number of unique blk_ids:  1994\n",
      "Number of unique blk_ids:  1994\n",
      "Number of windows:  30\n"
     ]
    }
   ],
   "source": [
    "#3\n",
    "x_h,y_h,df_h = cpe._session_window(data_file=\"./Parsing/cleanlogs/HDFS_structured_clean.csv\",labels=False)\n",
    "x_hl,y_hl,df_hl = cpe._session_window(data_file=\"./Parsing/cleanlogs/HDFS_labelled.csv\",labels=True)\n",
    "x_z,y_z,df_z = cpe._fixed_window(data_file=\"./Parsing/cleanlogs/Zookeeper_structured_clean.csv\",windowsize=2,log_type=\"Zookeeper\")"
   ]
  },
  {
   "cell_type": "code",
   "execution_count": 6,
   "metadata": {},
   "outputs": [
    {
     "name": "stdout",
     "output_type": "stream",
     "text": [
      "Size of training set:  27\n",
      "Size of testing set:  3\n",
      "Size of total data set:  30\n",
      "Size of training set:  997\n",
      "Size of testing set:  997\n",
      "Size of total data set:  1994\n"
     ]
    }
   ],
   "source": [
    "#4\n",
    "(x_train_z,_), (x_test_z,_) = cpe._split_data(x_z,y_z,train_ratio = 0.9, split_type = 'sequential')\n",
    "(x_train_hl,y_train_hl), (x_test_hl,y_test_hl) = cpe._split_data(x_hl,y_hl,train_ratio = 0.5, split_type = 'uniform')"
   ]
  }
 ],
 "metadata": {
  "kernelspec": {
   "display_name": "Python 3",
   "language": "python",
   "name": "python3"
  },
  "language_info": {
   "codemirror_mode": {
    "name": "ipython",
    "version": 3
   },
   "file_extension": ".py",
   "mimetype": "text/x-python",
   "name": "python",
   "nbconvert_exporter": "python",
   "pygments_lexer": "ipython3",
   "version": "3.8.3"
  }
 },
 "nbformat": 4,
 "nbformat_minor": 4
}
